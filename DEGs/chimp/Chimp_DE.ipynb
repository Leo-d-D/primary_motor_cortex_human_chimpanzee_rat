{
  "cells": [
    {
      "cell_type": "code",
      "execution_count": null,
      "id": "zy-2epJvkGKB",
      "metadata": {
        "id": "zy-2epJvkGKB"
      },
      "outputs": [],
      "source": [
        "from google.colab import drive\n",
        "drive.mount('/content/drive')"
      ]
    },
    {
      "cell_type": "code",
      "execution_count": null,
      "id": "UXBubOelIrBJ",
      "metadata": {
        "id": "UXBubOelIrBJ"
      },
      "outputs": [],
      "source": [
        "!chmod 755 -R /content/drive/MyDrive/virtual_env/bin"
      ]
    },
    {
      "cell_type": "code",
      "execution_count": null,
      "id": "W5VTme7gI_qN",
      "metadata": {
        "id": "W5VTme7gI_qN"
      },
      "outputs": [],
      "source": [
        "import sys\n",
        "# add the path of the virtual environmentsite-packages to colab system path\n",
        "sys.path.append(\"/content/drive/MyDrive/virtual_env/lib/python3.10/site-packages\")"
      ]
    },
    {
      "cell_type": "code",
      "execution_count": null,
      "id": "c8754047",
      "metadata": {
        "id": "c8754047"
      },
      "outputs": [],
      "source": [
        "from adjustText import adjust_text\n",
        "import numpy as np\n",
        "import pandas as pd\n",
        "import scanpy as sc\n",
        "import anndata as ad\n",
        "import matplotlib.pyplot as plt\n",
        "import os\n",
        "import seaborn as sns\n",
        "import sys\n",
        "from glob import iglob\n",
        "from scipy import sparse\n",
        "from scipy.sparse import coo_matrix"
      ]
    },
    {
      "cell_type": "code",
      "execution_count": null,
      "id": "46144dbf",
      "metadata": {
        "id": "46144dbf"
      },
      "outputs": [],
      "source": [
        "# verbosity: errors (0), warnings (1), info (2), hints (3)\n",
        "sc.settings.verbosity = 3\n",
        "sc.logging.print_header()\n",
        "sc.settings.set_figure_params(dpi=80, facecolor='white')\n"
      ]
    },
    {
      "cell_type": "code",
      "execution_count": null,
      "id": "4SyLCn7rrcMa",
      "metadata": {
        "id": "4SyLCn7rrcMa"
      },
      "outputs": [],
      "source": [
        "# the directory with the `.h5` file\n",
        "# use gene symbols for the variable names (variables-axis index)\n",
        "input_dir=\"/content/drive/MyDrive/LeoDai/Private_Data/Preprocessing/chimp\"\n",
        "output_fig_dir=\"/content/drive/MyDrive/LeoDai/Private_Data/DE_genes/chimp\"\n",
        "output_dir=\"/content/drive/MyDrive/LeoDai/Private_Data/DE_genes/chimp\"\n",
        "cluster_dir=\"/content/drive/MyDrive/LeoDai/Private_Data/Clustering/Chimp\"\n",
        "sc.settings.figdir = output_dir"
      ]
    },
    {
      "cell_type": "code",
      "execution_count": null,
      "id": "BC2XuyXV6o2m",
      "metadata": {
        "id": "BC2XuyXV6o2m"
      },
      "outputs": [],
      "source": [
        "adata = sc.read_h5ad(os.path.join(input_dir,\"chimp_all_raw_filt.h5ad\"))\n",
        "print(adata)"
      ]
    },
    {
      "cell_type": "code",
      "execution_count": null,
      "id": "_OLnNnlycQ3_",
      "metadata": {
        "id": "_OLnNnlycQ3_"
      },
      "outputs": [],
      "source": [
        "pd.DataFrame(adata.var_names).to_csv(os.path.join(output_dir,\"chimp_genes.txt\"),sep=\"\\t\",index=False)"
      ]
    },
    {
      "cell_type": "code",
      "execution_count": null,
      "id": "TMaFjNjMtv1p",
      "metadata": {
        "id": "TMaFjNjMtv1p"
      },
      "outputs": [],
      "source": [
        "#High zero rate, low depth\n",
        "depth_per_gene = adata.obs.total_counts / adata.obs.n_genes_by_counts\n",
        "print(depth_per_gene[:5])\n",
        "avg_depth=np.mean(depth_per_gene)\n",
        "print(avg_depth)\n",
        "zero_rate = (adata.n_vars - adata.obs.n_genes_by_counts) / adata.n_vars\n",
        "print(zero_rate)\n",
        "avg_zero_rate = np.mean(zero_rate)\n",
        "print(avg_zero_rate)\n",
        "print(min(zero_rate))\n",
        "print(max(zero_rate))"
      ]
    },
    {
      "cell_type": "code",
      "execution_count": null,
      "id": "3mGldL8yhRCN",
      "metadata": {
        "id": "3mGldL8yhRCN"
      },
      "outputs": [],
      "source": [
        "adata_norm = sc.read_h5ad(os.path.join(input_dir,\"chimp_all_norm_class.h5ad\"))\n",
        "print(adata_norm)"
      ]
    },
    {
      "cell_type": "code",
      "execution_count": null,
      "id": "jcaCLiTTjsAb",
      "metadata": {
        "id": "jcaCLiTTjsAb"
      },
      "outputs": [],
      "source": [
        "#prepare gabaergic cells for DEG analysis\n",
        "adata_gaba=sc.read_h5ad(os.path.join(cluster_dir,\"Chimp_inh_level2_level3_cluster.h5ad\"))\n",
        "print(adata_gaba)\n",
        "adata_inh = adata[adata.obs_names.isin(adata_gaba.obs_names),:]\n",
        "adata_inh.obs[\"subclass\"]=adata_gaba.obs[\"subclass\"]\n",
        "#save raw data into npz format for DE analysis\n",
        "adata_inh.write_h5ad(os.path.join(output_dir,\"chimp_inh_raw_filt_norm_subclass.h5ad\"),compression='gzip')\n",
        "cellinfo_inh=pd.DataFrame({\"cell_id\":adata_inh.obs_names,\"subclass\":adata_inh.obs['subclass'],\"batch\":adata_inh.obs[\"sample\"]})\n",
        "#cellinfo\n",
        "cellinfo_inh.to_csv(os.path.join(output_dir,\"chimp_cellinfo_inh.txt\"),sep=\"\\t\", index=False)\n",
        "\n",
        "sparse.save_npz(\n",
        "     os.path.join(output_dir, \"chimp_inh_raw_counts.npz\"),\n",
        "     sparse.csr_matrix(adata_inh.X)\n",
        "     )\n"
      ]
    },
    {
      "cell_type": "code",
      "execution_count": null,
      "id": "HO8z3OX7mWIj",
      "metadata": {
        "id": "HO8z3OX7mWIj"
      },
      "outputs": [],
      "source": [
        "#prepare data for glut DEG anlaysis\n",
        "adata_glut=sc.read_h5ad(os.path.join(cluster_dir,\"Chimp_exc_level2_level3_cluster.h5ad\"))\n",
        "adata_exc = adata[adata.obs_names.isin(adata_glut.obs_names),:]\n",
        "adata_exc.obs[\"subclass\"]=adata_glut.obs[\"subclass\"]\n",
        "adata_exc.write_h5ad(os.path.join(output_dir,\"chimp_exc_raw_filt_norm_subclass.h5ad\"),compression='gzip')\n",
        "cellinfo_exc=pd.DataFrame({\"cell_id\":adata_exc.obs_names,\"subclass\":adata_exc.obs['subclass'],\"batch\":adata_exc.obs[\"sample\"]})\n",
        "#cellinfo\n",
        "cellinfo_exc.to_csv(os.path.join(output_dir,\"chimp_cellinfo_exc.txt\"),sep=\"\\t\", index=False)\n",
        "#pd.DataFrame(adata.X).to_csv(os.path.join(output_dir,\"chimp_raw_counts.txt\"),sep=\"\\t\")\n",
        "#M=adata.X.power(-1)\n",
        "#M.A\n",
        "sparse.save_npz(\n",
        "     os.path.join(output_dir, \"chimp_exc_raw_counts.npz\"),\n",
        "     sparse.csr_matrix(adata_exc.X)\n",
        "     )"
      ]
    },
    {
      "cell_type": "code",
      "execution_count": null,
      "id": "f_FiOMXbm2XN",
      "metadata": {
        "id": "f_FiOMXbm2XN"
      },
      "outputs": [],
      "source": [
        "adata_glial=sc.read_h5ad(os.path.join(cluster_dir,\"Chimp_glial_level2_level3_cluster.h5ad\"))\n",
        "adata_nn = adata[adata.obs_names.isin(adata_glial.obs_names),:]\n",
        "adata_nn.obs[\"subclass\"]=adata_glial.obs[\"subclass\"]\n",
        "adata_nn.obs['cluster_label'] = adata_glial.obs['cluster_label']\n",
        "adata_nn.write_h5ad(os.path.join(output_dir,\"chimp_nn_raw_filt_norm_subclass.h5ad\"),compression='gzip')\n",
        "cellinfo_nn=pd.DataFrame({\"cell_id\":adata_nn.obs_names,\"subclass\":adata_nn.obs['subclass'],\"batch\":adata_nn.obs[\"sample\"]})\n",
        "#cellinfo\n",
        "cellinfo_nn.to_csv(os.path.join(output_dir,\"chimp_cellinfo_nn.txt\"),sep=\"\\t\", index=False)\n",
        "#pd.DataFrame(adata.X).to_csv(os.path.join(output_dir,\"chimp_raw_counts.txt\"),sep=\"\\t\")\n",
        "#M=adata.X.power(-1)\n",
        "#M.A\n",
        "sparse.save_npz(\n",
        "     os.path.join(output_dir, \"chimp_nn_raw_counts.npz\"),\n",
        "     sparse.csr_matrix(adata_nn.X)\n",
        "     )"
      ]
    },
    {
      "cell_type": "code",
      "execution_count": null,
      "id": "58ZTCfFRCgDj",
      "metadata": {
        "id": "58ZTCfFRCgDj"
      },
      "outputs": [],
      "source": [
        "adata_nn_astro = adata[adata.obs.subclass == \"Astro\",:]\n",
        "adata_nn_opc = adata[adata.obs.subclass == \"OPC\",:]\n",
        "\n",
        "adata_nn_oligo = adata[adata.obs.subclass == \"Oligo\",:]\n",
        "\n",
        "adata_nn_VLMC = adata[adata.obs.subclass == \"VLMC\",:]\n"
      ]
    },
    {
      "cell_type": "code",
      "execution_count": null,
      "id": "UdX7qEhoDhfl",
      "metadata": {
        "id": "UdX7qEhoDhfl"
      },
      "outputs": [],
      "source": [
        "adata_nn_VLMC.write_h5ad(os.path.join(output_dir,\"chimp_nn_VLMC_raw_filt_norm_subclass.h5ad\"),compression='gzip')\n",
        "cellinfo_nn_VLMC=pd.DataFrame({\"cell_id\":adata_nn_VLMC.obs_names,\"cell_type\":adata_nn_VLMC.obs['cluster_label'],\"batch\":adata_nn_VLMC.obs[\"sample\"]})\n",
        "#cellinfo\n",
        "cellinfo_nn_VLMC.to_csv(os.path.join(output_dir,\"chimp_cellinfo_nn_VLMC.txt\"),sep=\"\\t\", index=False)\n",
        "#pd.DataFrame(adata.X).to_csv(os.path.join(output_dir,\"chimp_raw_counts.txt\"),sep=\"\\t\")\n",
        "#M=adata.X.power(-1)\n",
        "#M.A\n",
        "sparse.save_npz(\n",
        "     os.path.join(output_dir, \"chimp_nn_VLMC_raw_counts.npz\"),\n",
        "     sparse.csr_matrix(adata_nn_VLMC.X)\n",
        "     )"
      ]
    },
    {
      "cell_type": "code",
      "execution_count": null,
      "id": "Hv5b0fx-Evp9",
      "metadata": {
        "id": "Hv5b0fx-Evp9"
      },
      "outputs": [],
      "source": [
        "adata_nn_astro.write_h5ad(os.path.join(output_dir,\"chimp_nn_astro_raw_filt_norm_subclass.h5ad\"),compression='gzip')\n",
        "cellinfo_nn_astro=pd.DataFrame({\"cell_id\":adata_nn_astro.obs_names,\"cell_type\":adata_nn_astro.obs['cluster_label'],\"batch\":adata_nn_astro.obs[\"sample\"]})\n",
        "#cellinfo\n",
        "cellinfo_nn_astro.to_csv(os.path.join(output_dir,\"chimp_cellinfo_nn_astro.txt\"),sep=\"\\t\", index=False)\n",
        "#pd.DataFrame(adata.X).to_csv(os.path.join(output_dir,\"chimp_raw_counts.txt\"),sep=\"\\t\")\n",
        "#M=adata.X.power(-1)\n",
        "#M.A\n",
        "sparse.save_npz(\n",
        "     os.path.join(output_dir, \"chimp_nn_astro_raw_counts.npz\"),\n",
        "     sparse.csr_matrix(adata_nn_astro.X)\n",
        "     )"
      ]
    },
    {
      "cell_type": "code",
      "execution_count": null,
      "id": "nfngbRaXFF9R",
      "metadata": {
        "id": "nfngbRaXFF9R"
      },
      "outputs": [],
      "source": [
        "adata_nn_oligo.write_h5ad(os.path.join(output_dir,\"chimp_nn_oligo_raw_filt_norm_subclass.h5ad\"),compression='gzip')\n",
        "cellinfo_nn_oligo=pd.DataFrame({\"cell_id\":adata_nn_oligo.obs_names,\"cell_type\":adata_nn_oligo.obs['cluster_label'],\"batch\":adata_nn_oligo.obs[\"sample\"]})\n",
        "#cellinfo\n",
        "cellinfo_nn_oligo.to_csv(os.path.join(output_dir,\"chimp_cellinfo_nn_oligo.txt\"),sep=\"\\t\", index=False)\n",
        "#pd.DataFrame(adata.X).to_csv(os.path.join(output_dir,\"chimp_raw_counts.txt\"),sep=\"\\t\")\n",
        "#M=adata.X.power(-1)\n",
        "#M.A\n",
        "sparse.save_npz(\n",
        "     os.path.join(output_dir, \"chimp_nn_oligo_raw_counts.npz\"),\n",
        "     sparse.csr_matrix(adata_nn_oligo.X)\n",
        "     )"
      ]
    },
    {
      "cell_type": "code",
      "execution_count": null,
      "id": "JvTTTLQCFahx",
      "metadata": {
        "id": "JvTTTLQCFahx"
      },
      "outputs": [],
      "source": [
        "adata_nn_opc.write_h5ad(os.path.join(output_dir,\"chimp_nn_OPC_raw_filt_norm_subclass.h5ad\"),compression='gzip')\n",
        "cellinfo_nn_opc=pd.DataFrame({\"cell_id\":adata_nn_opc.obs_names,\"cell_type\":adata_nn_opc.obs['cluster_label'],\"batch\":adata_nn_opc.obs[\"sample\"]})\n",
        "#cellinfo\n",
        "cellinfo_nn_opc.to_csv(os.path.join(output_dir,\"chimp_cellinfo_nn_opc.txt\"),sep=\"\\t\", index=False)\n",
        "#pd.DataFrame(adata.X).to_csv(os.path.join(output_dir,\"chimp_raw_counts.txt\"),sep=\"\\t\")\n",
        "#M=adata.X.power(-1)\n",
        "#M.A\n",
        "sparse.save_npz(\n",
        "     os.path.join(output_dir, \"chimp_nn_opc_raw_counts.npz\"),\n",
        "     sparse.csr_matrix(adata_nn_opc.X)\n",
        "     )"
      ]
    },
    {
      "cell_type": "code",
      "execution_count": null,
      "id": "l-rWeAjwGs3q",
      "metadata": {
        "colab": {
          "background_save": true
        },
        "id": "l-rWeAjwGs3q"
      },
      "outputs": [],
      "source": [
        "adata=sc.read_h5ad(os.path.join(output_dir,\"chimp_exc_raw_filt_norm_subclass.h5ad\"))\n",
        "adata_mask=sc.read_h5ad(os.path.join(cluster_dir,\"Chimp_exc_level2_level3_cluster.h5ad\"))\n",
        "adata.obs['cluster_label'] = adata_mask.obs['cluster_label']\n",
        "adata.write_h5ad(os.path.join(output_dir,\"chimp_exc_cell_types_raw_filt_norm_subclass.h5ad\"),compression='gzip')\n",
        "cellinfo_exc_cell_types=pd.DataFrame({\"cell_id\":adata.obs_names,\"subclass\":adata.obs[\"subclass\"],\"cell_type\":adata.obs['cluster_label'],\"batch\":adata.obs[\"sample\"]})\n",
        "#cellinfo\n",
        "cellinfo_exc_cell_types.to_csv(os.path.join(output_dir,\"chimp_cellinfo_exc_cell_types.txt\"),sep=\"\\t\", index=False)\n",
        "#pd.DataFrame(adata.X).to_csv(os.path.join(output_dir,\"chimp_raw_counts.txt\"),sep=\"\\t\")\n",
        "#M=adata.X.power(-1)\n",
        "#M.A\n",
        "sparse.save_npz(\n",
        "     os.path.join(output_dir, \"chimp_exc_cell_types_raw_counts.npz\"),\n",
        "     sparse.csr_matrix(adata.X)\n",
        "     )\n",
        "for i in adata.obs['subclass'].unique():\n",
        "  adata_exc_subclass = adata[adata.obs.subclass == i,:]\n",
        "  adata_exc_subclass.write_h5ad(os.path.join(output_dir,\"chimp_exc_\" + i + \"_raw_filt_norm_subclass.h5ad\"),compression='gzip')\n",
        "  cellinfo_exc_subclass=pd.DataFrame({\"cell_id\":adata_exc_subclass.obs_names,\"cell_type\":adata_exc_subclass.obs['cluster_label'],\"batch\":adata_exc_subclass.obs[\"sample\"]})\n",
        "  cellinfo_exc_subclass.to_csv(os.path.join(output_dir,\"chimp_cellinfo_exc_\" + i + \".txt\"),sep=\"\\t\", index=False)\n",
        "  sparse.save_npz(\n",
        "     os.path.join(output_dir, \"chimp_exc_\" + i + \"_raw_counts.npz\"),\n",
        "     sparse.csr_matrix(adata_exc_subclass.X)\n",
        "     )"
      ]
    },
    {
      "cell_type": "code",
      "source": [
        "adata=sc.read_h5ad(os.path.join(output_dir,\"chimp_exc_raw_filt_norm_subclass.h5ad\"))\n",
        "adata_mask=sc.read_h5ad(os.path.join(cluster_dir,\"Chimp_exc_level2_level3_cluster.h5ad\"))\n",
        "adata.obs['cluster_label'] = adata_mask.obs['cluster_label']"
      ],
      "metadata": {
        "id": "0w_4MBzlQoOD"
      },
      "id": "0w_4MBzlQoOD",
      "execution_count": null,
      "outputs": []
    },
    {
      "cell_type": "code",
      "execution_count": null,
      "id": "cttDWAkuKI_6",
      "metadata": {
        "id": "cttDWAkuKI_6"
      },
      "outputs": [],
      "source": [
        "adata=sc.read_h5ad(os.path.join(output_dir,\"chimp_inh_raw_filt_norm_subclass.h5ad\"))\n",
        "adata_mask=sc.read_h5ad(os.path.join(cluster_dir,\"Chimp_inh_level2_level3_cluster.h5ad\"))\n",
        "adata.obs['cluster_label'] = adata_mask.obs['cluster_label']\n",
        "adata.write_h5ad(os.path.join(output_dir,\"chimp_inh_cell_types_raw_filt_norm_subclass.h5ad\"),compression='gzip')\n",
        "cellinfo_exc_cell_types=pd.DataFrame({\"cell_id\":adata.obs_names,\"subclass\":adata.obs[\"subclass\"],\"cell_type\":adata.obs['cluster_label'],\"batch\":adata.obs[\"sample\"]})\n",
        "#cellinfo\n",
        "cellinfo_exc_cell_types.to_csv(os.path.join(output_dir,\"chimp_cellinfo_inh_cell_types.txt\"),sep=\"\\t\", index=False)\n",
        "#pd.DataFrame(adata.X).to_csv(os.path.join(output_dir,\"chimp_raw_counts.txt\"),sep=\"\\t\")\n",
        "#M=adata.X.power(-1)\n",
        "#M.A\n",
        "sparse.save_npz(\n",
        "     os.path.join(output_dir, \"chimp_inh_cell_types_raw_counts.npz\"),\n",
        "     sparse.csr_matrix(adata.X)\n",
        "     )\n",
        "for i in adata.obs['subclass'].unique():\n",
        "  adata_exc_subclass = adata[adata.obs.subclass == i,:]\n",
        "  adata_exc_subclass.write_h5ad(os.path.join(output_dir,\"chimp_inh_\" + i + \"_raw_filt_norm_subclass.h5ad\"),compression='gzip')\n",
        "  cellinfo_exc_subclass=pd.DataFrame({\"cell_id\":adata_exc_subclass.obs_names,\"cell_type\":adata_exc_subclass.obs['cluster_label'],\"batch\":adata_exc_subclass.obs[\"sample\"]})\n",
        "  cellinfo_exc_subclass.to_csv(os.path.join(output_dir,\"chimp_cellinfo_inh_\" + i + \".txt\"),sep=\"\\t\", index=False)\n",
        "  sparse.save_npz(\n",
        "     os.path.join(output_dir, \"chimp_inh_\" + i + \"_raw_counts.npz\"),\n",
        "     sparse.csr_matrix(adata_exc_subclass.X)\n",
        "     )"
      ]
    },
    {
      "cell_type": "code",
      "execution_count": null,
      "id": "3wD0k9H-IIbm",
      "metadata": {
        "id": "3wD0k9H-IIbm"
      },
      "outputs": [],
      "source": []
    }
  ],
  "metadata": {
    "accelerator": "GPU",
    "colab": {
      "gpuType": "L4",
      "machine_shape": "hm",
      "provenance": []
    },
    "kernelspec": {
      "display_name": "Python 3",
      "name": "python3"
    },
    "language_info": {
      "codemirror_mode": {
        "name": "ipython",
        "version": 3
      },
      "file_extension": ".py",
      "mimetype": "text/x-python",
      "name": "python",
      "nbconvert_exporter": "python",
      "pygments_lexer": "ipython3",
      "version": "3.10.9"
    }
  },
  "nbformat": 4,
  "nbformat_minor": 5
}